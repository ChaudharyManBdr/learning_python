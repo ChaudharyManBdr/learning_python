{
 "cells": [
  {
   "cell_type": "code",
   "execution_count": 1,
   "metadata": {},
   "outputs": [
    {
     "name": "stdout",
     "output_type": "stream",
     "text": [
      "United States Washington, D.C.\n",
      "Sweden Stockholm\n",
      "California Sacramento\n",
      "Poland Warsaw\n",
      "Ohio Columbus\n"
     ]
    }
   ],
   "source": [
    "capitals = {\n",
    "    \"United States\": \"Washington, D.C.\",\n",
    "    \"Sweden\": \"Stockholm\",\n",
    "    \"California\": \"Sacramento\",\n",
    "    \"Poland\": \"Warsaw\",\n",
    "    \"Ohio\": \"Columbus\"\n",
    "}\n",
    "\n",
    "for k, v in capitals.items():\n",
    "    print(k, v)"
   ]
  },
  {
   "cell_type": "code",
   "execution_count": 8,
   "metadata": {},
   "outputs": [
    {
     "name": "stdout",
     "output_type": "stream",
     "text": [
      "United States\n",
      "Sweden\n",
      "California\n",
      "Poland\n",
      "Ohio\n"
     ]
    }
   ],
   "source": [
    "for i in capitals:\n",
    "    print(i)"
   ]
  },
  {
   "cell_type": "code",
   "execution_count": 9,
   "metadata": {},
   "outputs": [
    {
     "name": "stdout",
     "output_type": "stream",
     "text": [
      "Washington, D.C.\n",
      "Stockholm\n",
      "Sacramento\n",
      "Warsaw\n",
      "Columbus\n"
     ]
    }
   ],
   "source": [
    "for y in capitals.values():\n",
    "    print(y)"
   ]
  },
  {
   "cell_type": "code",
   "execution_count": 10,
   "metadata": {},
   "outputs": [
    {
     "name": "stdout",
     "output_type": "stream",
     "text": [
      "Washington, D.C.\n",
      "Stockholm\n",
      "Sacramento\n",
      "Warsaw\n",
      "Columbus\n"
     ]
    }
   ],
   "source": [
    "for z in capitals:\n",
    "    print(capitals[z])"
   ]
  },
  {
   "cell_type": "code",
   "execution_count": null,
   "metadata": {
    "collapsed": true
   },
   "outputs": [],
   "source": []
  }
 ],
 "metadata": {
  "kernelspec": {
   "display_name": "Python 3",
   "language": "python",
   "name": "python3"
  },
  "language_info": {
   "codemirror_mode": {
    "name": "ipython",
    "version": 3
   },
   "file_extension": ".py",
   "mimetype": "text/x-python",
   "name": "python",
   "nbconvert_exporter": "python",
   "pygments_lexer": "ipython3",
   "version": "3.6.3"
  }
 },
 "nbformat": 4,
 "nbformat_minor": 2
}
